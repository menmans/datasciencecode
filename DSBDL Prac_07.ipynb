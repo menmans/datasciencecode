{
 "cells": [
  {
   "cell_type": "code",
   "execution_count": 1,
   "id": "ea5a632e-e28a-40fc-8b7d-c5cdb6e14bc9",
   "metadata": {},
   "outputs": [
    {
     "name": "stderr",
     "output_type": "stream",
     "text": [
      "[nltk_data] Downloading package punkt to\n",
      "[nltk_data]     C:\\Users\\nirwa\\AppData\\Roaming\\nltk_data...\n",
      "[nltk_data]   Package punkt is already up-to-date!\n",
      "[nltk_data] Downloading package averaged_perceptron_tagger to\n",
      "[nltk_data]     C:\\Users\\nirwa\\AppData\\Roaming\\nltk_data...\n",
      "[nltk_data]   Package averaged_perceptron_tagger is already up-to-\n",
      "[nltk_data]       date!\n",
      "[nltk_data] Downloading package stopwords to\n",
      "[nltk_data]     C:\\Users\\nirwa\\AppData\\Roaming\\nltk_data...\n",
      "[nltk_data]   Package stopwords is already up-to-date!\n",
      "[nltk_data] Downloading package wordnet to\n",
      "[nltk_data]     C:\\Users\\nirwa\\AppData\\Roaming\\nltk_data...\n",
      "[nltk_data]   Package wordnet is already up-to-date!\n"
     ]
    }
   ],
   "source": [
    "import nltk\n",
    "nltk.download('punkt')\n",
    "nltk.download('averaged_perceptron_tagger')\n",
    "nltk.download('stopwords')\n",
    "nltk.download('wordnet')\n",
    "from nltk.corpus import stopwords\n",
    "from nltk.tokenize import word_tokenize\n",
    "from nltk.stem import PorterStemmer, WordNetLemmatizer\n",
    "from sklearn.feature_extraction.text import TfidfVectorizer"
   ]
  },
  {
   "cell_type": "code",
   "execution_count": 2,
   "id": "9811b359-dbe7-4c70-ba19-ee719d002d4f",
   "metadata": {},
   "outputs": [],
   "source": [
    "#Sample document\n",
    "document = \"In 1983 India won their first Cricket World Cup under the captaincy of Kapil Dev, marking a historic moment in Indian cricket history.\""
   ]
  },
  {
   "cell_type": "code",
   "execution_count": 3,
   "id": "6a4b045b-bbb5-4763-8ba9-6b80834d1076",
   "metadata": {},
   "outputs": [
    {
     "name": "stdout",
     "output_type": "stream",
     "text": [
      "['In', '1983', 'India', 'won', 'their', 'first', 'Cricket', 'World', 'Cup', 'under', 'the', 'captaincy', 'of', 'Kapil', 'Dev', ',', 'marking', 'a', 'historic', 'moment', 'in', 'Indian', 'cricket', 'history', '.']\n"
     ]
    }
   ],
   "source": [
    "# Tokenization\n",
    "tokens = word_tokenize(document)\n",
    "print(tokens)\n"
   ]
  },
  {
   "cell_type": "code",
   "execution_count": 4,
   "id": "8811609f-1a2d-4439-bae3-2e56e6452351",
   "metadata": {},
   "outputs": [
    {
     "name": "stdout",
     "output_type": "stream",
     "text": [
      "[('In', 'IN'), ('1983', 'CD'), ('India', 'NNP'), ('won', 'VBD'), ('their', 'PRP$'), ('first', 'JJ'), ('Cricket', 'NNP'), ('World', 'NNP'), ('Cup', 'NNP'), ('under', 'IN'), ('the', 'DT'), ('captaincy', 'NN'), ('of', 'IN'), ('Kapil', 'NNP'), ('Dev', 'NNP'), (',', ','), ('marking', 'VBG'), ('a', 'DT'), ('historic', 'JJ'), ('moment', 'NN'), ('in', 'IN'), ('Indian', 'JJ'), ('cricket', 'NN'), ('history', 'NN'), ('.', '.')]\n"
     ]
    }
   ],
   "source": [
    "# POS Tagging\n",
    "pos_tags = nltk.pos_tag(tokens)\n",
    "print(pos_tags)"
   ]
  },
  {
   "cell_type": "code",
   "execution_count": 5,
   "id": "2e86cc23-16dc-4433-9087-832033caec2f",
   "metadata": {},
   "outputs": [
    {
     "name": "stdout",
     "output_type": "stream",
     "text": [
      "['1983', 'India', 'first', 'Cricket', 'World', 'Cup', 'captaincy', 'Kapil', 'Dev', ',', 'marking', 'historic', 'moment', 'Indian', 'cricket', 'history', '.']\n"
     ]
    }
   ],
   "source": [
    "# Stopwords Removal\n",
    "stop_words = set(stopwords.words('english'))\n",
    "filtered_tokens = [word for word in tokens if word.lower() not in stop_words]\n",
    "print(filtered_tokens)"
   ]
  },
  {
   "cell_type": "code",
   "execution_count": 6,
   "id": "2f748614-c59f-4e1d-b884-ec17d901864e",
   "metadata": {},
   "outputs": [
    {
     "name": "stdout",
     "output_type": "stream",
     "text": [
      "['1983', 'india', 'first', 'cricket', 'world', 'cup', 'captainci', 'kapil', 'dev', ',', 'mark', 'histor', 'moment', 'indian', 'cricket', 'histori', '.']\n"
     ]
    }
   ],
   "source": [
    "# Stemming \n",
    "stemmer = PorterStemmer()\n",
    "stemmed_tokens = [stemmer.stem(word) for word in filtered_tokens]\n",
    "print(stemmed_tokens)"
   ]
  },
  {
   "cell_type": "code",
   "execution_count": 7,
   "id": "b382fd14-d24b-42bc-8a57-42fe9cf8710d",
   "metadata": {},
   "outputs": [
    {
     "name": "stdout",
     "output_type": "stream",
     "text": [
      "['1983', 'India', 'first', 'Cricket', 'World', 'Cup', 'captaincy', 'Kapil', 'Dev', ',', 'marking', 'historic', 'moment', 'Indian', 'cricket', 'history', '.']\n"
     ]
    }
   ],
   "source": [
    "# Lemmatization\n",
    "lemmatizer = WordNetLemmatizer()\n",
    "lemmatized_tokens = [lemmatizer.lemmatize(word) for word in filtered_tokens]\n",
    "print(lemmatized_tokens)"
   ]
  },
  {
   "cell_type": "code",
   "execution_count": 8,
   "id": "d8849b0c-67de-4c28-9c2b-8dab36e1080d",
   "metadata": {},
   "outputs": [],
   "source": [
    "# Create representations using TF-IDF\n",
    "tfidf_vectorizer = TfidfVectorizer()\n",
    "tfidf_matrix = tfidf_vectorizer.fit_transform([' '.join(lemmatized_tokens)])"
   ]
  },
  {
   "cell_type": "code",
   "execution_count": 10,
   "id": "28157e68-7247-43d1-9fe9-c6fffc103ec1",
   "metadata": {},
   "outputs": [],
   "source": [
    "from collections import Counter\n",
    "import math\n",
    "words = document.split()"
   ]
  },
  {
   "cell_type": "code",
   "execution_count": 11,
   "id": "21b50525-ac6f-4d8b-a3c3-5b3840d70dab",
   "metadata": {},
   "outputs": [],
   "source": [
    "word_count = Counter(words)\n",
    "total_words = len(words)\n",
    "tf = {word: count/total_words for word, count in word_count.items()}"
   ]
  },
  {
   "cell_type": "code",
   "execution_count": 12,
   "id": "40b6cb22-9e13-47da-bb2a-c2a932b04a41",
   "metadata": {},
   "outputs": [
    {
     "name": "stdout",
     "output_type": "stream",
     "text": [
      "Term Frequency (TF) for each word:\n",
      "In: 0.043478260869565216\n",
      "1983: 0.043478260869565216\n",
      "India: 0.043478260869565216\n",
      "won: 0.043478260869565216\n",
      "their: 0.043478260869565216\n",
      "first: 0.043478260869565216\n",
      "Cricket: 0.043478260869565216\n",
      "World: 0.043478260869565216\n",
      "Cup: 0.043478260869565216\n",
      "under: 0.043478260869565216\n",
      "the: 0.043478260869565216\n",
      "captaincy: 0.043478260869565216\n",
      "of: 0.043478260869565216\n",
      "Kapil: 0.043478260869565216\n",
      "Dev,: 0.043478260869565216\n",
      "marking: 0.043478260869565216\n",
      "a: 0.043478260869565216\n",
      "historic: 0.043478260869565216\n",
      "moment: 0.043478260869565216\n",
      "in: 0.043478260869565216\n",
      "Indian: 0.043478260869565216\n",
      "cricket: 0.043478260869565216\n",
      "history.: 0.043478260869565216\n"
     ]
    }
   ],
   "source": [
    "print(\"Term Frequency (TF) for each word:\")\n",
    "for word, tf_value in tf.items():\n",
    "    print(f\"{word}: {tf_value}\")"
   ]
  },
  {
   "cell_type": "code",
   "execution_count": 13,
   "id": "4506d6ad-b6c8-4299-ad0f-8ea3ce404932",
   "metadata": {},
   "outputs": [],
   "source": [
    "# tokenize the document\n",
    "words = set(document.split())\n"
   ]
  },
  {
   "cell_type": "code",
   "execution_count": 14,
   "id": "b2433546-a140-4bdb-9478-9bda8adfc53c",
   "metadata": {},
   "outputs": [],
   "source": [
    "documents_containing_word = Counter()\n",
    "for word in words:\n",
    "    documents_containing_word[word] +=1"
   ]
  },
  {
   "cell_type": "code",
   "execution_count": 15,
   "id": "f49e4b04-018f-42db-bfc4-10e9c11a0795",
   "metadata": {},
   "outputs": [],
   "source": [
    "total_documents = 1\n",
    "idf= {word: math.log(total_documents / count) for word, count in documents_containing_word.items()}"
   ]
  },
  {
   "cell_type": "code",
   "execution_count": 16,
   "id": "c1652968-8207-4743-b14a-abe05627a195",
   "metadata": {},
   "outputs": [
    {
     "name": "stdout",
     "output_type": "stream",
     "text": [
      "Inverse Document Frequency (IDF) for each word:\n",
      "first: 0.0\n",
      "Cricket: 0.0\n",
      "the: 0.0\n",
      "history.: 0.0\n",
      "Kapil: 0.0\n",
      "historic: 0.0\n",
      "captaincy: 0.0\n",
      "Indian: 0.0\n",
      "won: 0.0\n",
      "under: 0.0\n",
      "cricket: 0.0\n",
      "India: 0.0\n",
      "moment: 0.0\n",
      "in: 0.0\n",
      "World: 0.0\n",
      "a: 0.0\n",
      "In: 0.0\n",
      "marking: 0.0\n",
      "Dev,: 0.0\n",
      "1983: 0.0\n",
      "of: 0.0\n",
      "their: 0.0\n",
      "Cup: 0.0\n"
     ]
    }
   ],
   "source": [
    "print(\"Inverse Document Frequency (IDF) for each word:\")\n",
    "for word , idf_value in idf.items():\n",
    "    print(f\"{word}: {idf_value}\")"
   ]
  },
  {
   "cell_type": "code",
   "execution_count": 17,
   "id": "c8844300-c368-4c3e-9c3f-b5b71aeecd22",
   "metadata": {},
   "outputs": [
    {
     "name": "stdout",
     "output_type": "stream",
     "text": [
      "\n",
      "TF-IDF Matrix:\n",
      "[[0.24253563 0.24253563 0.48507125 0.24253563 0.24253563 0.24253563\n",
      "  0.24253563 0.24253563 0.24253563 0.24253563 0.24253563 0.24253563\n",
      "  0.24253563 0.24253563]]\n",
      "Features Names: ['1983' 'captaincy' 'cricket' 'cup' 'dev' 'first' 'historic' 'history'\n",
      " 'india' 'indian' 'kapil' 'marking' 'moment' 'world']\n"
     ]
    }
   ],
   "source": [
    "print(\"\\nTF-IDF Matrix:\")\n",
    "print(tfidf_matrix.toarray())\n",
    "print(\"Features Names:\", tfidf_vectorizer.get_feature_names_out())"
   ]
  },
  {
   "cell_type": "code",
   "execution_count": null,
   "id": "cd893449-548f-49d8-8d01-8099c490343e",
   "metadata": {},
   "outputs": [],
   "source": []
  }
 ],
 "metadata": {
  "kernelspec": {
   "display_name": "Python 3 (ipykernel)",
   "language": "python",
   "name": "python3"
  },
  "language_info": {
   "codemirror_mode": {
    "name": "ipython",
    "version": 3
   },
   "file_extension": ".py",
   "mimetype": "text/x-python",
   "name": "python",
   "nbconvert_exporter": "python",
   "pygments_lexer": "ipython3",
   "version": "3.11.7"
  }
 },
 "nbformat": 4,
 "nbformat_minor": 5
}
