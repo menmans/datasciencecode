{
  "cells": [
    {
      "cell_type": "code",
      "execution_count": null,
      "id": "0921fe6b-0209-46ab-8b92-ebbef1b26201",
      "metadata": {
        "id": "0921fe6b-0209-46ab-8b92-ebbef1b26201"
      },
      "outputs": [],
      "source": [
        "import pandas as pd\n",
        "import statistics as st\n",
        "import numpy as np"
      ]
    },
    {
      "cell_type": "code",
      "execution_count": null,
      "id": "306d0bc0-9969-42a5-bfac-3fded77348af",
      "metadata": {
        "id": "306d0bc0-9969-42a5-bfac-3fded77348af"
      },
      "outputs": [],
      "source": [
        "df=pd.read_csv('iris dataset/Iris.csv')"
      ]
    },
    {
      "cell_type": "code",
      "execution_count": null,
      "id": "21403e59-8acf-4961-b839-a8267e603660",
      "metadata": {
        "id": "21403e59-8acf-4961-b839-a8267e603660",
        "outputId": "c0e99a34-3475-4fd6-d998-76e45c4f9d3d"
      },
      "outputs": [
        {
          "data": {
            "text/html": [
              "<div>\n",
              "<style scoped>\n",
              "    .dataframe tbody tr th:only-of-type {\n",
              "        vertical-align: middle;\n",
              "    }\n",
              "\n",
              "    .dataframe tbody tr th {\n",
              "        vertical-align: top;\n",
              "    }\n",
              "\n",
              "    .dataframe thead th {\n",
              "        text-align: right;\n",
              "    }\n",
              "</style>\n",
              "<table border=\"1\" class=\"dataframe\">\n",
              "  <thead>\n",
              "    <tr style=\"text-align: right;\">\n",
              "      <th></th>\n",
              "      <th>Id</th>\n",
              "      <th>SepalLengthCm</th>\n",
              "      <th>SepalWidthCm</th>\n",
              "      <th>PetalLengthCm</th>\n",
              "      <th>PetalWidthCm</th>\n",
              "      <th>Species</th>\n",
              "    </tr>\n",
              "  </thead>\n",
              "  <tbody>\n",
              "    <tr>\n",
              "      <th>0</th>\n",
              "      <td>1</td>\n",
              "      <td>5.1</td>\n",
              "      <td>3.5</td>\n",
              "      <td>1.4</td>\n",
              "      <td>0.2</td>\n",
              "      <td>Iris-setosa</td>\n",
              "    </tr>\n",
              "    <tr>\n",
              "      <th>1</th>\n",
              "      <td>2</td>\n",
              "      <td>4.9</td>\n",
              "      <td>3.0</td>\n",
              "      <td>1.4</td>\n",
              "      <td>0.2</td>\n",
              "      <td>Iris-setosa</td>\n",
              "    </tr>\n",
              "    <tr>\n",
              "      <th>2</th>\n",
              "      <td>3</td>\n",
              "      <td>4.7</td>\n",
              "      <td>3.2</td>\n",
              "      <td>1.3</td>\n",
              "      <td>0.2</td>\n",
              "      <td>Iris-setosa</td>\n",
              "    </tr>\n",
              "    <tr>\n",
              "      <th>3</th>\n",
              "      <td>4</td>\n",
              "      <td>4.6</td>\n",
              "      <td>3.1</td>\n",
              "      <td>1.5</td>\n",
              "      <td>0.2</td>\n",
              "      <td>Iris-setosa</td>\n",
              "    </tr>\n",
              "    <tr>\n",
              "      <th>4</th>\n",
              "      <td>5</td>\n",
              "      <td>5.0</td>\n",
              "      <td>3.6</td>\n",
              "      <td>1.4</td>\n",
              "      <td>0.2</td>\n",
              "      <td>Iris-setosa</td>\n",
              "    </tr>\n",
              "  </tbody>\n",
              "</table>\n",
              "</div>"
            ],
            "text/plain": [
              "   Id  SepalLengthCm  SepalWidthCm  PetalLengthCm  PetalWidthCm      Species\n",
              "0   1            5.1           3.5            1.4           0.2  Iris-setosa\n",
              "1   2            4.9           3.0            1.4           0.2  Iris-setosa\n",
              "2   3            4.7           3.2            1.3           0.2  Iris-setosa\n",
              "3   4            4.6           3.1            1.5           0.2  Iris-setosa\n",
              "4   5            5.0           3.6            1.4           0.2  Iris-setosa"
            ]
          },
          "execution_count": 4,
          "metadata": {},
          "output_type": "execute_result"
        }
      ],
      "source": [
        "df.head()"
      ]
    },
    {
      "cell_type": "code",
      "execution_count": null,
      "id": "efbcc7e9-6f81-445f-869f-c0e4d60dae27",
      "metadata": {
        "id": "efbcc7e9-6f81-445f-869f-c0e4d60dae27"
      },
      "outputs": [],
      "source": [
        "summary_stats=df.groupby('Species')['SepalLengthCm'].describe()"
      ]
    },
    {
      "cell_type": "code",
      "execution_count": null,
      "id": "2556e122-1cc6-4632-abb6-b63416672bb9",
      "metadata": {
        "id": "2556e122-1cc6-4632-abb6-b63416672bb9",
        "outputId": "6af0df3c-dfeb-45ea-bc9c-09a168a8ca3c"
      },
      "outputs": [
        {
          "name": "stdout",
          "output_type": "stream",
          "text": [
            "                 count   mean       std  min    25%  50%  75%  max\n",
            "Species                                                           \n",
            "Iris-setosa       50.0  5.006  0.352490  4.3  4.800  5.0  5.2  5.8\n",
            "Iris-versicolor   50.0  5.936  0.516171  4.9  5.600  5.9  6.3  7.0\n",
            "Iris-virginica    50.0  6.588  0.635880  4.9  6.225  6.5  6.9  7.9\n"
          ]
        }
      ],
      "source": [
        "print(summary_stats)"
      ]
    },
    {
      "cell_type": "code",
      "execution_count": null,
      "id": "15cebadc-d09e-44ea-83d2-84bd1e7af407",
      "metadata": {
        "id": "15cebadc-d09e-44ea-83d2-84bd1e7af407"
      },
      "outputs": [],
      "source": [
        "Species_numeric_values=df.groupby('Species').size().tolist()"
      ]
    },
    {
      "cell_type": "code",
      "execution_count": null,
      "id": "88e0a8d7-5042-401c-86fa-bf07ac68982e",
      "metadata": {
        "id": "88e0a8d7-5042-401c-86fa-bf07ac68982e",
        "outputId": "b8191de5-209f-4846-d2f7-f45851d4842e"
      },
      "outputs": [
        {
          "name": "stdout",
          "output_type": "stream",
          "text": [
            "[50, 50, 50]\n"
          ]
        }
      ],
      "source": [
        "print(Species_numeric_values)"
      ]
    },
    {
      "cell_type": "code",
      "execution_count": null,
      "id": "6a66b032-22c5-4ecb-a7b3-29d93bc5189b",
      "metadata": {
        "id": "6a66b032-22c5-4ecb-a7b3-29d93bc5189b",
        "outputId": "c9981892-f8e0-4909-d8aa-1c5ff5e1d0bf"
      },
      "outputs": [
        {
          "name": "stdout",
          "output_type": "stream",
          "text": [
            "<class 'pandas.core.frame.DataFrame'>\n",
            "RangeIndex: 150 entries, 0 to 149\n",
            "Data columns (total 6 columns):\n",
            " #   Column         Non-Null Count  Dtype  \n",
            "---  ------         --------------  -----  \n",
            " 0   Id             150 non-null    int64  \n",
            " 1   SepalLengthCm  150 non-null    float64\n",
            " 2   SepalWidthCm   150 non-null    float64\n",
            " 3   PetalLengthCm  150 non-null    float64\n",
            " 4   PetalWidthCm   150 non-null    float64\n",
            " 5   Species        150 non-null    object \n",
            "dtypes: float64(4), int64(1), object(1)\n",
            "memory usage: 7.2+ KB\n"
          ]
        }
      ],
      "source": [
        "df.info()"
      ]
    },
    {
      "cell_type": "code",
      "execution_count": null,
      "id": "8c00fb38-aca0-42a5-859d-6a227d456d16",
      "metadata": {
        "id": "8c00fb38-aca0-42a5-859d-6a227d456d16"
      },
      "outputs": [],
      "source": [
        "def custom_describe(x):\n",
        "    mode_value = st.mode(x)\n",
        "    median_value = st.median(x)\n",
        "    return pd.Series([x.count(), x.mean(), x.std(), mode_value, median_value, x.min(),  x.max()],\n",
        "                     index=['count', 'mean', 'std', 'mode', 'median', 'min', 'max']).transpose()"
      ]
    },
    {
      "cell_type": "code",
      "execution_count": null,
      "id": "885cbf22-ab64-4fe1-850c-11ae506f0df1",
      "metadata": {
        "id": "885cbf22-ab64-4fe1-850c-11ae506f0df1",
        "outputId": "5b249f7f-c960-4677-f115-26030a5dc1e7"
      },
      "outputs": [
        {
          "name": "stdout",
          "output_type": "stream",
          "text": [
            "Species                \n",
            "Iris-setosa      count     50.000000\n",
            "                 mean       5.006000\n",
            "                 std        0.352490\n",
            "                 mode       5.100000\n",
            "                 median     5.000000\n",
            "                 min        4.300000\n",
            "                 max        5.800000\n",
            "Iris-versicolor  count     50.000000\n",
            "                 mean       5.936000\n",
            "                 std        0.516171\n",
            "                 mode       5.500000\n",
            "                 median     5.900000\n",
            "                 min        4.900000\n",
            "                 max        7.000000\n",
            "Iris-virginica   count     50.000000\n",
            "                 mean       6.588000\n",
            "                 std        0.635880\n",
            "                 mode       6.300000\n",
            "                 median     6.500000\n",
            "                 min        4.900000\n",
            "                 max        7.900000\n",
            "Name: SepalLengthCm, dtype: float64\n"
          ]
        }
      ],
      "source": [
        "summary_with_mode_median = df.groupby('Species')['SepalLengthCm'].apply(custom_describe)\n",
        "print(summary_with_mode_median)"
      ]
    },
    {
      "cell_type": "code",
      "execution_count": null,
      "id": "d35d6eb9-55e8-4c47-b721-d805af04de04",
      "metadata": {
        "id": "d35d6eb9-55e8-4c47-b721-d805af04de04",
        "outputId": "0ae85f70-f6c6-45c1-a077-6ee4637cc0bc"
      },
      "outputs": [
        {
          "name": "stdout",
          "output_type": "stream",
          "text": [
            "Mode :\n",
            "Species\n",
            "Iris-setosa        5.1\n",
            "Iris-versicolor    5.5\n",
            "Iris-virginica     6.3\n",
            "Name: SepalLengthCm, dtype: float64\n"
          ]
        }
      ],
      "source": [
        "mode_summary = df.groupby('Species')['SepalLengthCm'].apply(lambda x: st.mode(x))\n",
        "print(\"Mode :\")\n",
        "print(mode_summary)"
      ]
    },
    {
      "cell_type": "code",
      "execution_count": null,
      "id": "44be91e9-b269-4313-958e-5e4243ff1c60",
      "metadata": {
        "id": "44be91e9-b269-4313-958e-5e4243ff1c60",
        "outputId": "6c124e5f-e8c9-4aae-b135-316fc4dacc1c"
      },
      "outputs": [
        {
          "name": "stdout",
          "output_type": "stream",
          "text": [
            "\n",
            "Median :\n",
            "Species\n",
            "Iris-setosa        5.0\n",
            "Iris-versicolor    5.9\n",
            "Iris-virginica     6.5\n",
            "Name: SepalLengthCm, dtype: float64\n"
          ]
        }
      ],
      "source": [
        "median_summary = df.groupby('Species')['SepalLengthCm'].median()\n",
        "print(\"\\nMedian :\")\n",
        "print(median_summary)"
      ]
    },
    {
      "cell_type": "code",
      "execution_count": null,
      "id": "1c9e81f1-6045-46a6-9924-9852b3f9722d",
      "metadata": {
        "id": "1c9e81f1-6045-46a6-9924-9852b3f9722d"
      },
      "outputs": [],
      "source": [
        "Species_stats=df.groupby('Species').describe()"
      ]
    },
    {
      "cell_type": "code",
      "execution_count": null,
      "id": "e7cef3b1-de11-4890-9a31-c6f6c5064c6b",
      "metadata": {
        "id": "e7cef3b1-de11-4890-9a31-c6f6c5064c6b",
        "outputId": "b0b20886-8968-4d1c-e211-1dcbc36c34ea"
      },
      "outputs": [
        {
          "name": "stdout",
          "output_type": "stream",
          "text": [
            "                   Id                                                        \\\n",
            "                count   mean       std    min     25%    50%     75%    max   \n",
            "Species                                                                       \n",
            "Iris-setosa      50.0   25.5  14.57738    1.0   13.25   25.5   37.75   50.0   \n",
            "Iris-versicolor  50.0   75.5  14.57738   51.0   63.25   75.5   87.75  100.0   \n",
            "Iris-virginica   50.0  125.5  14.57738  101.0  113.25  125.5  137.75  150.0   \n",
            "\n",
            "                SepalLengthCm         ... PetalLengthCm      PetalWidthCm  \\\n",
            "                        count   mean  ...           75%  max        count   \n",
            "Species                               ...                                   \n",
            "Iris-setosa              50.0  5.006  ...         1.575  1.9         50.0   \n",
            "Iris-versicolor          50.0  5.936  ...         4.600  5.1         50.0   \n",
            "Iris-virginica           50.0  6.588  ...         5.875  6.9         50.0   \n",
            "\n",
            "                                                           \n",
            "                  mean       std  min  25%  50%  75%  max  \n",
            "Species                                                    \n",
            "Iris-setosa      0.244  0.107210  0.1  0.2  0.2  0.3  0.6  \n",
            "Iris-versicolor  1.326  0.197753  1.0  1.2  1.3  1.5  1.8  \n",
            "Iris-virginica   2.026  0.274650  1.4  1.8  2.0  2.3  2.5  \n",
            "\n",
            "[3 rows x 40 columns]\n"
          ]
        }
      ],
      "source": [
        "print(Species_stats)"
      ]
    },
    {
      "cell_type": "code",
      "execution_count": null,
      "id": "9fa896b7-e1af-4372-9380-5278147685e5",
      "metadata": {
        "id": "9fa896b7-e1af-4372-9380-5278147685e5"
      },
      "outputs": [],
      "source": [
        "setosa_stats=df[df['Species'] == 'Iris-setosa'].describe()\n",
        "versicolor_stats=df[df['Species'] == 'Iris-versicolor'].describe()\n",
        "virginica_stats=df[df['Species'] == 'Iris-virginica'].describe()"
      ]
    },
    {
      "cell_type": "code",
      "execution_count": null,
      "id": "f3362228-3e81-41ac-a9f2-68ccb55c2934",
      "metadata": {
        "id": "f3362228-3e81-41ac-a9f2-68ccb55c2934",
        "outputId": "e9acfe57-be8a-4541-f51c-96bf97a6b1b0"
      },
      "outputs": [
        {
          "name": "stdout",
          "output_type": "stream",
          "text": [
            "Setosa Statistics:\n",
            "             Id  SepalLengthCm  SepalWidthCm  PetalLengthCm  PetalWidthCm\n",
            "count  50.00000       50.00000     50.000000      50.000000      50.00000\n",
            "mean   25.50000        5.00600      3.418000       1.464000       0.24400\n",
            "std    14.57738        0.35249      0.381024       0.173511       0.10721\n",
            "min     1.00000        4.30000      2.300000       1.000000       0.10000\n",
            "25%    13.25000        4.80000      3.125000       1.400000       0.20000\n",
            "50%    25.50000        5.00000      3.400000       1.500000       0.20000\n",
            "75%    37.75000        5.20000      3.675000       1.575000       0.30000\n",
            "max    50.00000        5.80000      4.400000       1.900000       0.60000\n",
            "\n",
            "Versicolor Statistics:\n",
            "              Id  SepalLengthCm  SepalWidthCm  PetalLengthCm  PetalWidthCm\n",
            "count   50.00000      50.000000     50.000000      50.000000     50.000000\n",
            "mean    75.50000       5.936000      2.770000       4.260000      1.326000\n",
            "std     14.57738       0.516171      0.313798       0.469911      0.197753\n",
            "min     51.00000       4.900000      2.000000       3.000000      1.000000\n",
            "25%     63.25000       5.600000      2.525000       4.000000      1.200000\n",
            "50%     75.50000       5.900000      2.800000       4.350000      1.300000\n",
            "75%     87.75000       6.300000      3.000000       4.600000      1.500000\n",
            "max    100.00000       7.000000      3.400000       5.100000      1.800000\n",
            "\n",
            "virginica Statistics:\n",
            "              Id  SepalLengthCm  SepalWidthCm  PetalLengthCm  PetalWidthCm\n",
            "count   50.00000       50.00000     50.000000      50.000000      50.00000\n",
            "mean   125.50000        6.58800      2.974000       5.552000       2.02600\n",
            "std     14.57738        0.63588      0.322497       0.551895       0.27465\n",
            "min    101.00000        4.90000      2.200000       4.500000       1.40000\n",
            "25%    113.25000        6.22500      2.800000       5.100000       1.80000\n",
            "50%    125.50000        6.50000      3.000000       5.550000       2.00000\n",
            "75%    137.75000        6.90000      3.175000       5.875000       2.30000\n",
            "max    150.00000        7.90000      3.800000       6.900000       2.50000\n"
          ]
        }
      ],
      "source": [
        "print(\"Setosa Statistics:\")\n",
        "print(setosa_stats)\n",
        "print(\"\\nVersicolor Statistics:\")\n",
        "print(versicolor_stats)\n",
        "print(\"\\nvirginica Statistics:\")\n",
        "print(virginica_stats)"
      ]
    },
    {
      "cell_type": "code",
      "execution_count": null,
      "id": "328986fa-79f3-425b-a7d3-cc281d8ba0e1",
      "metadata": {
        "id": "328986fa-79f3-425b-a7d3-cc281d8ba0e1"
      },
      "outputs": [],
      "source": []
    }
  ],
  "metadata": {
    "kernelspec": {
      "display_name": "Python 3 (ipykernel)",
      "language": "python",
      "name": "python3"
    },
    "language_info": {
      "codemirror_mode": {
        "name": "ipython",
        "version": 3
      },
      "file_extension": ".py",
      "mimetype": "text/x-python",
      "name": "python",
      "nbconvert_exporter": "python",
      "pygments_lexer": "ipython3",
      "version": "3.10.9"
    },
    "colab": {
      "provenance": []
    }
  },
  "nbformat": 4,
  "nbformat_minor": 5
}